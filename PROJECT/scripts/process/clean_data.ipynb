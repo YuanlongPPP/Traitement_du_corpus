{
 "cells": [
  {
   "cell_type": "code",
   "execution_count": null,
   "id": "a88a1c98-00c9-4ee8-aa7d-686e923daf15",
   "metadata": {},
   "outputs": [],
   "source": [
    "import json\n",
    "import os\n",
    "import re\n",
    "import html"
   ]
  },
  {
   "cell_type": "code",
   "execution_count": null,
   "id": "ee55d9c1-106c-4e35-81be-c28d77daa779",
   "metadata": {},
   "outputs": [],
   "source": [
    "# Charger les données brutes\n",
    "with open('reviews_with_ratings.json', 'r', encoding='utf-8') as f:\n",
    "    data = json.load(f)"
   ]
  },
  {
   "cell_type": "code",
   "execution_count": null,
   "id": "07390b3a-947e-4d4a-a3df-f8c9fc2abc5d",
   "metadata": {},
   "outputs": [],
   "source": [
    "# Définir la fonction de nettoyage\n",
    "def nettoyer_texte(texte):\n",
    "    # Remplacer les entités HTML\n",
    "    texte = html.unescape(texte)\n",
    "    \n",
    "    # Corriger les problèmes d'espacement : ajouter un espace après la ponctuation\n",
    "    texte = re.sub(r'(?<=[?.!,:;])(?=[^\\s])', r' ', texte)\n",
    "    \n",
    "    # Supprimer les espaces en trop\n",
    "    texte = re.sub(r'\\s+', ' ', texte)\n",
    "    \n",
    "    # Uniformiser les guillemets français et s'assurer qu'il y a des espaces avant et après\n",
    "    texte = re.sub(r'«\\s?', '« ', texte)\n",
    "    texte = re.sub(r'\\s?»', ' »', texte)\n",
    "    \n",
    "    # Supprimer les barres obliques inverses\n",
    "    texte = texte.replace('\\\\', '')\n",
    "    \n",
    "    return texte.strip()"
   ]
  },
  {
   "cell_type": "code",
   "execution_count": null,
   "id": "37d59fb3-845d-4da1-9ea2-24bf7d2b27de",
   "metadata": {},
   "outputs": [],
   "source": [
    "# Nettoyer les données\n",
    "donnees_nettoyees = []\n",
    "for review in data:\n",
    "    book_title, author, reader_review, rating, label = review\n",
    "    reader_review = nettoyer_texte(reader_review)\n",
    "    \n",
    "    # Conserver uniquement les critiques avec une note\n",
    "    if rating is not None:\n",
    "        donnees_nettoyees.append([book_title, author, reader_review, rating, label])"
   ]
  },
  {
   "cell_type": "code",
   "execution_count": null,
   "id": "7fc0bfe1-d382-4550-b008-eba5bd15b65c",
   "metadata": {},
   "outputs": [],
   "source": [
    "# Enregistrer les données nettoyées dans le dossier courant\n",
    "output_file = 'cleaned_reviews.json'\n",
    "with open(output_file, 'w', encoding='utf-8') as f:\n",
    "    json.dump(donnees_nettoyees, f, ensure_ascii=False, indent=4)\n",
    "\n",
    "print(\"Nettoyage terminé, résultat enregistré dans :\", output_file)"
   ]
  },
  {
   "cell_type": "code",
   "execution_count": null,
   "id": "72f229f0-7065-4c44-9888-881e5a3100f8",
   "metadata": {},
   "outputs": [],
   "source": []
  }
 ],
 "metadata": {
  "kernelspec": {
   "display_name": "Python 3 (ipykernel)",
   "language": "python",
   "name": "python3"
  },
  "language_info": {
   "codemirror_mode": {
    "name": "ipython",
    "version": 3
   },
   "file_extension": ".py",
   "mimetype": "text/x-python",
   "name": "python",
   "nbconvert_exporter": "python",
   "pygments_lexer": "ipython3",
   "version": "3.9.13"
  }
 },
 "nbformat": 4,
 "nbformat_minor": 5
}
