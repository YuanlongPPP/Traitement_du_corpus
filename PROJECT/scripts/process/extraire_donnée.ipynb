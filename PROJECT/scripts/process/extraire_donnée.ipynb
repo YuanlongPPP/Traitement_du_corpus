{
 "cells": [
  {
   "cell_type": "code",
   "execution_count": 30,
   "id": "7b16885b-530c-4eed-815a-f833698b8e50",
   "metadata": {},
   "outputs": [
    {
     "name": "stdout",
     "output_type": "stream",
     "text": [
      "Requirement already satisfied: requests in /Users/pengyuanlong/.pyenv/versions/3.10.4/lib/python3.10/site-packages (2.31.0)\n",
      "Requirement already satisfied: beautifulsoup4 in /Users/pengyuanlong/.pyenv/versions/3.10.4/lib/python3.10/site-packages (4.12.3)\n",
      "Requirement already satisfied: urllib3<3,>=1.21.1 in /Users/pengyuanlong/.pyenv/versions/3.10.4/lib/python3.10/site-packages (from requests) (2.2.1)\n",
      "Requirement already satisfied: idna<4,>=2.5 in /Users/pengyuanlong/.pyenv/versions/3.10.4/lib/python3.10/site-packages (from requests) (3.6)\n",
      "Requirement already satisfied: charset-normalizer<4,>=2 in /Users/pengyuanlong/.pyenv/versions/3.10.4/lib/python3.10/site-packages (from requests) (3.3.2)\n",
      "Requirement already satisfied: certifi>=2017.4.17 in /Users/pengyuanlong/.pyenv/versions/3.10.4/lib/python3.10/site-packages (from requests) (2024.2.2)\n",
      "Requirement already satisfied: soupsieve>1.2 in /Users/pengyuanlong/.pyenv/versions/3.10.4/lib/python3.10/site-packages (from beautifulsoup4) (2.5)\n",
      "\u001b[33mWARNING: You are using pip version 22.0.4; however, version 24.0 is available.\n",
      "You should consider upgrading via the '/Users/pengyuanlong/.pyenv/versions/3.10.4/bin/python3.10 -m pip install --upgrade pip' command.\u001b[0m\u001b[33m\n",
      "\u001b[0m"
     ]
    }
   ],
   "source": [
    "!pip install requests beautifulsoup4"
   ]
  },
  {
   "cell_type": "code",
   "execution_count": 31,
   "id": "267fa482-c4a5-4c05-b49f-0da714d178b5",
   "metadata": {},
   "outputs": [],
   "source": [
    "import requests\n",
    "from bs4 import BeautifulSoup\n",
    "import os\n",
    "import json"
   ]
  },
  {
   "cell_type": "code",
   "execution_count": 41,
   "id": "ae2695a1-23f7-42f7-881e-7bac5de6f856",
   "metadata": {},
   "outputs": [],
   "source": [
    "def fetch_data(url):\n",
    "    headers = {\n",
    "        'User-Agent': 'Mozilla/5.0 (Windows NT 10.0; Win64; x64) AppleWebKit/537.36 (KHTML, like Gecko) Chrome/91.0.4472.124 Safari/537.36'\n",
    "    }\n",
    "    try:\n",
    "        response = requests.get(url, headers=headers)\n",
    "        response.raise_for_status()\n",
    "        return response.text\n",
    "    except requests.RequestException as e:\n",
    "        print(f\"Error fetching data from {url}: {e}\")\n",
    "        return None\n",
    "\n",
    "def parse_data(html):\n",
    "    soup = BeautifulSoup(html, 'html.parser')\n",
    "    review_data = []\n",
    "\n",
    "    try:\n",
    "        book_title = soup.find('h1', itemprop='name').get_text(strip=True)\n",
    "    except AttributeError:\n",
    "        book_title = \"Unknown\"\n",
    "\n",
    "    try:\n",
    "        author = soup.find('span', itemprop='name').get_text(strip=True)\n",
    "    except AttributeError:\n",
    "        author = \"Unknown\"\n",
    "\n",
    "    reviews = soup.find_all('div', class_='post_con')\n",
    "    for review in reviews:\n",
    "        try:\n",
    "            review_text = review.find('div', class_='cri_corps_critique').get_text(strip=True)\n",
    "        except AttributeError:\n",
    "            review_text = \"No review available.\"\n",
    "\n",
    "        try:\n",
    "            rating = float(review.find('div', class_='rateit')['data-rateit-value'])\n",
    "        except (TypeError, ValueError, AttributeError):\n",
    "            rating = None\n",
    "\n",
    "        if rating is not None: \n",
    "            label = assign_label(rating)\n",
    "            review_data.append([book_title, author, review_text, rating, label])\n",
    "\n",
    "    return review_data\n",
    "\n",
    "def assign_label(rating):\n",
    "    if rating is None:\n",
    "        return 0 \n",
    "    elif rating >= 4.0:\n",
    "        return 1 \n",
    "    elif rating <= 2.5:\n",
    "        return -1 \n",
    "    else:\n",
    "        return 0 "
   ]
  },
  {
   "cell_type": "code",
   "execution_count": 42,
   "id": "26f3971f-0d55-4177-b454-c020cf1cb7a6",
   "metadata": {},
   "outputs": [],
   "source": [
    "def save_data(data, filename, folder):\n",
    "    if not os.path.exists(folder):\n",
    "        os.makedirs(folder)\n",
    "    \n",
    "    path = os.path.join(folder, filename)\n",
    "    with open(path, 'w', encoding='utf-8') as file:\n",
    "        json.dump(data, file, indent=4, ensure_ascii=False)\n",
    "    \n",
    "    print(f\"Data saved to {path}\")"
   ]
  },
  {
   "cell_type": "code",
   "execution_count": 44,
   "id": "a48f2400-6ddf-4b3e-8a80-b2aea3d3b887",
   "metadata": {},
   "outputs": [
    {
     "name": "stdout",
     "output_type": "stream",
     "text": [
      "Data saved to data/raw/reviews_with_ratings.json\n"
     ]
    }
   ],
   "source": [
    "def main():\n",
    "    urls = [\n",
    "        'https://www.babelio.com/livres/Rousselet-La-belle-histoire-des-maths/121795',  # 示例 URL\n",
    "        'https://www.babelio.com/livres/Saint-Exupery-Le-Petit-Prince/36712',  # 示例 URL\n",
    "        'https://www.babelio.com/livres/Hugo-Les-Miserables/1329123',  # 示例 URL\n",
    "        'https://www.babelio.com/livres/Duras-Lamant/5772',  # 示例 URL\n",
    "        'https://www.babelio.com/livres/Camus-Letranger/3874',  # 示例 URL\n",
    "        'https://www.babelio.com/livres/Hugo-Les-Travailleurs-de-la-mer/7119',\n",
    "        'https://www.babelio.com/livres/Camus-La-Peste/313209',\n",
    "        'https://www.babelio.com/livres/Camus-La-Chute/3631',\n",
    "        'https://www.babelio.com/livres/Proust-A-la-recherche-du-temps-perdu-tome-1--Du-cote-de-/822463',\n",
    "        'https://www.babelio.com/livres/Stendhal-Oeuvres-romanesques-completes-tome-1/99891',\n",
    "        'https://www.babelio.com/livres/Balzac-La-comedie-humaine-La-Pleiade-tome-1/711990',\n",
    "        'https://www.babelio.com/livres/Hugo-Quatrevingt-Treize/7115',\n",
    "        'https://www.babelio.com/livres/Hugo-LHomme-qui-rit/3295',\n",
    "        'https://www.babelio.com/livres/Stendhal-Le-Rouge-et-le-Noir/2908',\n",
    "        'https://www.babelio.com/livres/Dumas-Les-Trois-Mousquetaires/1397512',\n",
    "        'https://www.babelio.com/livres/Balzac-Eugenie-Grandet/78277',\n",
    "        'https://www.babelio.com/livres/Maupassant-Mademoiselle-Fifi-et-autres-nouvelles/731832',\n",
    "        'https://www.babelio.com/livres/Verne-Le-tour-du-monde-en-80-jours/1361536',\n",
    "        'https://www.babelio.com/livres/Verne-LIle-mysterieuse/9547',\n",
    "        'https://www.babelio.com/livres/Verne-Vingt-mille-lieues-sous-les-mers/5760',\n",
    "    ]\n",
    "\n",
    "    all_reviews = []\n",
    "    for url in urls:\n",
    "        html = fetch_data(url)\n",
    "        if html:\n",
    "            data = parse_data(html)\n",
    "            all_reviews.extend(data)\n",
    "\n",
    "    save_data(all_reviews, 'reviews_with_ratings.json', 'data/raw')\n",
    "\n",
    "if __name__ == \"__main__\":\n",
    "    main()"
   ]
  }
 ],
 "metadata": {
  "kernelspec": {
   "display_name": "Python 3 (ipykernel)",
   "language": "python",
   "name": "python3"
  },
  "language_info": {
   "codemirror_mode": {
    "name": "ipython",
    "version": 3
   },
   "file_extension": ".py",
   "mimetype": "text/x-python",
   "name": "python",
   "nbconvert_exporter": "python",
   "pygments_lexer": "ipython3",
   "version": "3.9.13"
  }
 },
 "nbformat": 4,
 "nbformat_minor": 5
}
