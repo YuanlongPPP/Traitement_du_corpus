{
 "cells": [
  {
   "cell_type": "code",
   "execution_count": 3,
   "id": "f30dc221-ae3e-446c-b18e-f528962f8899",
   "metadata": {},
   "outputs": [],
   "source": [
    "import json\n",
    "import csv"
   ]
  },
  {
   "cell_type": "code",
   "execution_count": 5,
   "id": "f6535efd-9412-4983-a4a5-d4a43e05ec72",
   "metadata": {},
   "outputs": [
    {
     "name": "stdout",
     "output_type": "stream",
     "text": [
      "Conversion terminée, résultat enregistré dans : book_reviews.csv\n"
     ]
    }
   ],
   "source": [
    "# Charger les données nettoyées\n",
    "with open('cleaned_reviews.json', 'r', encoding='utf-8') as f:\n",
    "    cleaned_data = json.load(f)\n",
    "\n",
    "# Définir le nom du fichier CSV de sortie\n",
    "output_file = 'book_reviews.csv'\n",
    "\n",
    "# Définir les en-têtes des colonnes\n",
    "fieldnames = ['book_title', 'author', 'reader_review', 'rating', 'label']\n",
    "\n",
    "# Écrire les données dans le fichier CSV\n",
    "with open(output_file, 'w', newline='', encoding='utf-8') as csvfile:\n",
    "    writer = csv.writer(csvfile)\n",
    "    writer.writerow(fieldnames)  # Écrire les en-têtes\n",
    "    for row in cleaned_data:\n",
    "        writer.writerow(row)\n",
    "\n",
    "print(\"Conversion terminée, résultat enregistré dans :\", output_file) "
   ]
  },
  {
   "cell_type": "code",
   "execution_count": null,
   "id": "ece910b4-ffe2-40d7-8e27-518dc742dd2a",
   "metadata": {},
   "outputs": [],
   "source": []
  }
 ],
 "metadata": {
  "kernelspec": {
   "display_name": "Python 3 (ipykernel)",
   "language": "python",
   "name": "python3"
  },
  "language_info": {
   "codemirror_mode": {
    "name": "ipython",
    "version": 3
   },
   "file_extension": ".py",
   "mimetype": "text/x-python",
   "name": "python",
   "nbconvert_exporter": "python",
   "pygments_lexer": "ipython3",
   "version": "3.9.13"
  }
 },
 "nbformat": 4,
 "nbformat_minor": 5
}
